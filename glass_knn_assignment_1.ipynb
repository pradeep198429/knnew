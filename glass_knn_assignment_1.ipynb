{
 "cells": [
  {
   "cell_type": "code",
   "execution_count": 1,
   "metadata": {},
   "outputs": [],
   "source": [
    "# Importing Libraries \n",
    "import pandas as pd\n",
    "import numpy as np"
   ]
  },
  {
   "cell_type": "code",
   "execution_count": 2,
   "metadata": {},
   "outputs": [],
   "source": [
    "glass = pd.read_csv(\"glass.csv\")"
   ]
  },
  {
   "cell_type": "code",
   "execution_count": 3,
   "metadata": {},
   "outputs": [
    {
     "data": {
      "text/html": [
       "<div>\n",
       "<style scoped>\n",
       "    .dataframe tbody tr th:only-of-type {\n",
       "        vertical-align: middle;\n",
       "    }\n",
       "\n",
       "    .dataframe tbody tr th {\n",
       "        vertical-align: top;\n",
       "    }\n",
       "\n",
       "    .dataframe thead th {\n",
       "        text-align: right;\n",
       "    }\n",
       "</style>\n",
       "<table border=\"1\" class=\"dataframe\">\n",
       "  <thead>\n",
       "    <tr style=\"text-align: right;\">\n",
       "      <th></th>\n",
       "      <th>RI</th>\n",
       "      <th>Na</th>\n",
       "      <th>Mg</th>\n",
       "      <th>Al</th>\n",
       "      <th>Si</th>\n",
       "      <th>K</th>\n",
       "      <th>Ca</th>\n",
       "      <th>Ba</th>\n",
       "      <th>Fe</th>\n",
       "      <th>Type</th>\n",
       "    </tr>\n",
       "  </thead>\n",
       "  <tbody>\n",
       "    <tr>\n",
       "      <th>0</th>\n",
       "      <td>1.52101</td>\n",
       "      <td>13.64</td>\n",
       "      <td>4.49</td>\n",
       "      <td>1.10</td>\n",
       "      <td>71.78</td>\n",
       "      <td>0.06</td>\n",
       "      <td>8.75</td>\n",
       "      <td>0.0</td>\n",
       "      <td>0.0</td>\n",
       "      <td>1</td>\n",
       "    </tr>\n",
       "    <tr>\n",
       "      <th>1</th>\n",
       "      <td>1.51761</td>\n",
       "      <td>13.89</td>\n",
       "      <td>3.60</td>\n",
       "      <td>1.36</td>\n",
       "      <td>72.73</td>\n",
       "      <td>0.48</td>\n",
       "      <td>7.83</td>\n",
       "      <td>0.0</td>\n",
       "      <td>0.0</td>\n",
       "      <td>1</td>\n",
       "    </tr>\n",
       "    <tr>\n",
       "      <th>2</th>\n",
       "      <td>1.51618</td>\n",
       "      <td>13.53</td>\n",
       "      <td>3.55</td>\n",
       "      <td>1.54</td>\n",
       "      <td>72.99</td>\n",
       "      <td>0.39</td>\n",
       "      <td>7.78</td>\n",
       "      <td>0.0</td>\n",
       "      <td>0.0</td>\n",
       "      <td>1</td>\n",
       "    </tr>\n",
       "    <tr>\n",
       "      <th>3</th>\n",
       "      <td>1.51766</td>\n",
       "      <td>13.21</td>\n",
       "      <td>3.69</td>\n",
       "      <td>1.29</td>\n",
       "      <td>72.61</td>\n",
       "      <td>0.57</td>\n",
       "      <td>8.22</td>\n",
       "      <td>0.0</td>\n",
       "      <td>0.0</td>\n",
       "      <td>1</td>\n",
       "    </tr>\n",
       "    <tr>\n",
       "      <th>4</th>\n",
       "      <td>1.51742</td>\n",
       "      <td>13.27</td>\n",
       "      <td>3.62</td>\n",
       "      <td>1.24</td>\n",
       "      <td>73.08</td>\n",
       "      <td>0.55</td>\n",
       "      <td>8.07</td>\n",
       "      <td>0.0</td>\n",
       "      <td>0.0</td>\n",
       "      <td>1</td>\n",
       "    </tr>\n",
       "  </tbody>\n",
       "</table>\n",
       "</div>"
      ],
      "text/plain": [
       "        RI     Na    Mg    Al     Si     K    Ca   Ba   Fe  Type\n",
       "0  1.52101  13.64  4.49  1.10  71.78  0.06  8.75  0.0  0.0     1\n",
       "1  1.51761  13.89  3.60  1.36  72.73  0.48  7.83  0.0  0.0     1\n",
       "2  1.51618  13.53  3.55  1.54  72.99  0.39  7.78  0.0  0.0     1\n",
       "3  1.51766  13.21  3.69  1.29  72.61  0.57  8.22  0.0  0.0     1\n",
       "4  1.51742  13.27  3.62  1.24  73.08  0.55  8.07  0.0  0.0     1"
      ]
     },
     "execution_count": 3,
     "metadata": {},
     "output_type": "execute_result"
    }
   ],
   "source": [
    "glass.head()"
   ]
  },
  {
   "cell_type": "code",
   "execution_count": 4,
   "metadata": {},
   "outputs": [
    {
     "data": {
      "text/plain": [
       "array([1, 2, 3, 5, 6, 7], dtype=int64)"
      ]
     },
     "execution_count": 4,
     "metadata": {},
     "output_type": "execute_result"
    }
   ],
   "source": [
    "glass['Type'].unique()"
   ]
  },
  {
   "cell_type": "code",
   "execution_count": 5,
   "metadata": {},
   "outputs": [],
   "source": [
    "# Training and Test data using \n",
    "from sklearn.model_selection import train_test_split\n",
    "train,test = train_test_split(glass,test_size = 0.2) # 0.2 => 20 percent of entire data "
   ]
  },
  {
   "cell_type": "code",
   "execution_count": 6,
   "metadata": {},
   "outputs": [
    {
     "data": {
      "text/plain": [
       "KNeighborsClassifier(algorithm='auto', leaf_size=30, metric='minkowski',\n",
       "                     metric_params=None, n_jobs=None, n_neighbors=3, p=2,\n",
       "                     weights='uniform')"
      ]
     },
     "execution_count": 6,
     "metadata": {},
     "output_type": "execute_result"
    }
   ],
   "source": [
    "# KNN using sklearn \n",
    "# Importing Knn algorithm from sklearn.neighbors\n",
    "from sklearn.neighbors import KNeighborsClassifier as KNC\n",
    "\n",
    "# for 3 nearest neighbours \n",
    "neigh = KNC(n_neighbors= 3)\n",
    "x_train = train.iloc[:,0:9]\n",
    "y_train=train.iloc[:,9]\n",
    "# Fitting with training data \n",
    "neigh.fit(x_train,y_train)"
   ]
  },
  {
   "cell_type": "code",
   "execution_count": 7,
   "metadata": {},
   "outputs": [
    {
     "name": "stdout",
     "output_type": "stream",
     "text": [
      "0.7368421052631579\n",
      "0.6976744186046512\n"
     ]
    }
   ],
   "source": [
    "# for 5 nearest neighbours\n",
    "neigh = KNC(n_neighbors=5)\n",
    "\n",
    "# fitting with training data\n",
    "neigh.fit(train.iloc[:,0:9],train.iloc[:,9])\n",
    "x_train = train.iloc[:,0:9]\n",
    "y_train= train.iloc[:,9]\n",
    "y_pred= neigh.predict(x_train)\n",
    "# train accuracy \n",
    "train_acc = np.mean(y_pred==y_train)\n",
    "print(train_acc)\n",
    "\n",
    "# test accuracy\n",
    "test_acc = np.mean(neigh.predict(test.iloc[:,0:9])==test.iloc[:,9])\n",
    "print(test_acc)"
   ]
  },
  {
   "cell_type": "code",
   "execution_count": 8,
   "metadata": {},
   "outputs": [],
   "source": [
    "# creating empty list variable \n",
    "acc = []\n",
    "\n",
    "# running KNN algorithm for 3 to 50 nearest neighbours(odd numbers) and \n",
    "# storing the accuracy values \n",
    " \n",
    "for i in range(3,50,2):\n",
    "    neigh = KNC(n_neighbors=i)\n",
    "    neigh.fit(train.iloc[:,0:9],train.iloc[:,9])\n",
    "    train_acc = np.mean(neigh.predict(train.iloc[:,0:9])==train.iloc[:,9])\n",
    "    test_acc = np.mean(neigh.predict(test.iloc[:,0:9])==test.iloc[:,9])\n",
    "    acc.append([train_acc,test_acc])"
   ]
  },
  {
   "cell_type": "code",
   "execution_count": 9,
   "metadata": {},
   "outputs": [
    {
     "data": {
      "text/plain": [
       "[[0.8187134502923976, 0.7674418604651163],\n",
       " [0.7368421052631579, 0.6976744186046512],\n",
       " [0.695906432748538, 0.6744186046511628],\n",
       " [0.6900584795321637, 0.6046511627906976],\n",
       " [0.6432748538011696, 0.6511627906976745],\n",
       " [0.6432748538011696, 0.6976744186046512],\n",
       " [0.6608187134502924, 0.6744186046511628],\n",
       " [0.672514619883041, 0.6511627906976745],\n",
       " [0.6608187134502924, 0.6511627906976745],\n",
       " [0.6608187134502924, 0.627906976744186],\n",
       " [0.6374269005847953, 0.6511627906976745],\n",
       " [0.6374269005847953, 0.6511627906976745],\n",
       " [0.6140350877192983, 0.6511627906976745],\n",
       " [0.6140350877192983, 0.6511627906976745],\n",
       " [0.6081871345029239, 0.6744186046511628],\n",
       " [0.6081871345029239, 0.6744186046511628],\n",
       " [0.6081871345029239, 0.6511627906976745],\n",
       " [0.5964912280701754, 0.627906976744186],\n",
       " [0.5906432748538012, 0.5813953488372093],\n",
       " [0.5847953216374269, 0.5813953488372093],\n",
       " [0.5847953216374269, 0.5813953488372093],\n",
       " [0.5847953216374269, 0.5813953488372093],\n",
       " [0.5730994152046783, 0.5581395348837209],\n",
       " [0.5672514619883041, 0.5581395348837209]]"
      ]
     },
     "execution_count": 9,
     "metadata": {},
     "output_type": "execute_result"
    }
   ],
   "source": [
    "acc"
   ]
  },
  {
   "cell_type": "code",
   "execution_count": 66,
   "metadata": {},
   "outputs": [
    {
     "data": {
      "image/png": "[encoded data removed]",
      "text/plain": [
       "<Figure size 432x288 with 1 Axes>"
      ]
     },
     "metadata": {
      "needs_background": "light"
     },
     "output_type": "display_data"
    }
   ],
   "source": [
    "import matplotlib.pyplot as plt # library to do visualizations \n",
    "\n",
    "# train accuracy plot \n",
    "plt.plot(np.arange(3,50,2),[i[0] for i in acc],\"ro-\")\n",
    "\n",
    "# test accuracy plot\n",
    "plt.plot(np.arange(3,50,2),[i[1] for i in acc],\"bo-\")\n",
    "\n",
    "\n",
    "plt.legend([\"train\",\"test\"])\n",
    "plt.show()"
   ]
  },
  {
   "cell_type": "markdown",
   "metadata": {},
   "source": [
    "from above if we see that our model have good accoracy from 1 to 10 then for accurate vaue of k we will create loop from 1 to 10"
   ]
  },
  {
   "cell_type": "code",
   "execution_count": 83,
   "metadata": {},
   "outputs": [],
   "source": [
    "# creating empty list variable \n",
    "acc1 = []\n",
    "\n",
    "# running KNN algorithm for 3 to 50 nearest neighbours(odd numbers) and \n",
    "# storing the accuracy values \n",
    " \n",
    "for i in range(1,12,2):\n",
    "    neigh = KNC(n_neighbors=i)\n",
    "    neigh.fit(train.iloc[:,0:9],train.iloc[:,9])\n",
    "    train_acc1 = np.mean(neigh.predict(train.iloc[:,0:9])==train.iloc[:,9])\n",
    "    test_acc1 = np.mean(neigh.predict(test.iloc[:,0:9])==test.iloc[:,9])\n",
    "    acc1.append([train_acc1,test_acc1])"
   ]
  },
  {
   "cell_type": "code",
   "execution_count": 84,
   "metadata": {},
   "outputs": [
    {
     "data": {
      "image/png": "[encoded data removed]",
      "text/plain": [
       "<Figure size 432x288 with 1 Axes>"
      ]
     },
     "metadata": {
      "needs_background": "light"
     },
     "output_type": "display_data"
    }
   ],
   "source": [
    "import matplotlib.pyplot as plt # library to do visualizations \n",
    "\n",
    "# train accuracy plot \n",
    "plt.plot(np.arange(1,12,2),[i[0] for i in acc1],\"ro-\")\n",
    "\n",
    "# test accuracy plot\n",
    "plt.plot(np.arange(1,12,2),[i[1] for i in acc1],\"bo-\")\n",
    "\n",
    "\n",
    "plt.legend([\"train\",\"test\"])\n",
    "plt.show()"
   ]
  },
  {
   "cell_type": "markdown",
   "metadata": {},
   "source": [
    "so above graph shows that k=5 will be the best k value for the least contrast in tran and test accuracy"
   ]
  },
  {
   "cell_type": "markdown",
   "metadata": {},
   "source": [
    "# we will try to decrease diffrence between train and test accuracy by k folded method"
   ]
  },
  {
   "cell_type": "code",
   "execution_count": 57,
   "metadata": {},
   "outputs": [],
   "source": [
    "import numpy as np\n",
    "import pandas as pd\n",
    "import matplotlib.pyplot as plt\n",
    "from sklearn.model_selection import train_test_split\n",
    "from sklearn.neighbors import KNeighborsClassifier\n",
    "from sklearn.metrics import accuracy_score\n",
    "from sklearn.model_selection import cross_val_score\n",
    "from collections import Counter\n",
    "from sklearn.metrics import accuracy_score\n",
    "from sklearn import model_selection"
   ]
  },
  {
   "cell_type": "code",
   "execution_count": 58,
   "metadata": {},
   "outputs": [],
   "source": [
    "glass1 = pd.read_csv(\"glass.csv\")"
   ]
  },
  {
   "cell_type": "markdown",
   "metadata": {},
   "source": [
    "split of data into dpendent and independent parts"
   ]
  },
  {
   "cell_type": "code",
   "execution_count": 59,
   "metadata": {},
   "outputs": [],
   "source": [
    "y1=glass1.iloc[:,9] #9th column is our dependent variable\n",
    "inputvariables1=list(glass1) #it conatain list of all columns\n",
    "del inputvariables1[9] #from that list we deleted 7th column\n",
    "x1=glass1[inputvariables1] #from rest of column we store data into x"
   ]
  },
  {
   "cell_type": "code",
   "execution_count": 60,
   "metadata": {},
   "outputs": [
    {
     "name": "stdout",
     "output_type": "stream",
     "text": [
      "\n",
      "CV accuracy for k = 1 is 68%\n",
      "\n",
      "CV accuracy for k = 3 is 60%\n",
      "\n",
      "CV accuracy for k = 5 is 57%\n",
      "\n",
      "CV accuracy for k = 7 is 57%\n",
      "\n",
      "CV accuracy for k = 9 is 55%\n",
      "\n",
      "CV accuracy for k = 11 is 55%\n",
      "\n",
      "CV accuracy for k = 13 is 55%\n",
      "\n",
      "CV accuracy for k = 15 is 55%\n",
      "\n",
      "CV accuracy for k = 17 is 57%\n",
      "\n",
      "CV accuracy for k = 19 is 57%\n",
      "\n",
      "CV accuracy for k = 21 is 55%\n",
      "\n",
      "CV accuracy for k = 23 is 55%\n",
      "\n",
      "CV accuracy for k = 25 is 51%\n",
      "\n",
      "CV accuracy for k = 27 is 53%\n",
      "\n",
      "CV accuracy for k = 29 is 51%\n"
     ]
    }
   ],
   "source": [
    "# split the data set into train and test\n",
    "x_1, x_test, y_1, y_test = model_selection.train_test_split(x1, y1, test_size=0.3, random_state=0)\n",
    "\n",
    "# split the train data set into cross validation train and cross validation test\n",
    "x_tr, x_cv, y_tr, y_cv = model_selection.train_test_split(x_1, y_1, test_size=0.3)\n",
    "\n",
    "for i in range(1,30,2):\n",
    "    # instantiate learning model (k = 30)\n",
    "    knn = KNeighborsClassifier(n_neighbors=i)\n",
    "\n",
    "    # fitting the model on crossvalidation train\n",
    "    knn.fit(x_tr, y_tr)\n",
    "\n",
    "    # predict the response on the crossvalidation train\n",
    "    pred1 = knn.predict(x_cv)\n",
    "\n",
    "    # evaluate CV accuracy\n",
    "    acc1 = accuracy_score(y_cv, pred1, normalize=True) * float(100)\n",
    "    print('\\nCV accuracy for k = %d is %d%%' % (i, acc1))\n",
    "    \n",
    "\n",
    "    "
   ]
  },
  {
   "cell_type": "markdown",
   "metadata": {},
   "source": [
    "so we are getting maximum accuracy fro k=3"
   ]
  },
  {
   "cell_type": "markdown",
   "metadata": {},
   "source": [
    "so we will make final model for k=3"
   ]
  },
  {
   "cell_type": "code",
   "execution_count": 61,
   "metadata": {},
   "outputs": [
    {
     "name": "stdout",
     "output_type": "stream",
     "text": [
      "\n",
      "****Test accuracy for k =3  is 67%\n"
     ]
    }
   ],
   "source": [
    "knn_final= KNeighborsClassifier(3)\n",
    "knn_final.fit(x_tr,y_tr)\n",
    "pred_test= knn_final.predict(x_test)\n",
    "acc_test= accuracy_score(y_test, pred_test, normalize=True) * float(100)\n",
    "print('\\n****Test accuracy for k =3  is %d%%' % (acc_test))"
   ]
  },
  {
   "cell_type": "code",
   "execution_count": null,
   "metadata": {},
   "outputs": [],
   "source": []
  },
  {
   "cell_type": "code",
   "execution_count": null,
   "metadata": {},
   "outputs": [],
   "source": []
  }
 ],
 "metadata": {
  "kernelspec": {
   "display_name": "Python 3",
   "language": "python",
   "name": "python3"
  },
  "language_info": {
   "codemirror_mode": {
    "name": "ipython",
    "version": 3
   },
   "file_extension": ".py",
   "mimetype": "text/x-python",
   "name": "python",
   "nbconvert_exporter": "python",
   "pygments_lexer": "ipython3",
   "version": "3.7.6"
  }
 },
 "nbformat": 4,
 "nbformat_minor": 2
}
